{
 "cells": [
  {
   "cell_type": "code",
   "execution_count": 28,
   "metadata": {},
   "outputs": [],
   "source": [
    "import numpy as np\n",
    "from Gridworld import *\n",
    "import torch \n",
    "import random\n",
    "from matplotlib import pylab as plt"
   ]
  },
  {
   "cell_type": "code",
   "execution_count": 29,
   "metadata": {},
   "outputs": [],
   "source": [
    "game = Gridworld(size=4, mode='static')"
   ]
  },
  {
   "cell_type": "code",
   "execution_count": 30,
   "metadata": {},
   "outputs": [
    {
     "data": {
      "text/plain": [
       "array([['+', '-', ' ', 'P'],\n",
       "       [' ', 'W', ' ', ' '],\n",
       "       [' ', ' ', ' ', ' '],\n",
       "       [' ', ' ', ' ', ' ']], dtype='<U2')"
      ]
     },
     "execution_count": 30,
     "metadata": {},
     "output_type": "execute_result"
    }
   ],
   "source": [
    "game.display()"
   ]
  },
  {
   "cell_type": "code",
   "execution_count": 31,
   "metadata": {},
   "outputs": [
    {
     "name": "stdout",
     "output_type": "stream",
     "text": [
      "-1\n"
     ]
    }
   ],
   "source": [
    "game.makeMove('r')\n",
    "print(game.reward())\n"
   ]
  },
  {
   "cell_type": "code",
   "execution_count": 32,
   "metadata": {},
   "outputs": [
    {
     "data": {
      "text/plain": [
       "array([['+', '-', ' ', 'P'],\n",
       "       [' ', 'W', ' ', ' '],\n",
       "       [' ', ' ', ' ', ' '],\n",
       "       [' ', ' ', ' ', ' ']], dtype='<U2')"
      ]
     },
     "execution_count": 32,
     "metadata": {},
     "output_type": "execute_result"
    }
   ],
   "source": [
    "game.display()"
   ]
  },
  {
   "cell_type": "code",
   "execution_count": null,
   "metadata": {},
   "outputs": [],
   "source": []
  },
  {
   "cell_type": "code",
   "execution_count": 33,
   "metadata": {},
   "outputs": [],
   "source": [
    "a = np.random.rand(1,6)"
   ]
  },
  {
   "cell_type": "code",
   "execution_count": 34,
   "metadata": {},
   "outputs": [
    {
     "data": {
      "text/plain": [
       "4"
      ]
     },
     "execution_count": 34,
     "metadata": {},
     "output_type": "execute_result"
    }
   ],
   "source": [
    "np.argmax(a)"
   ]
  },
  {
   "cell_type": "code",
   "execution_count": 35,
   "metadata": {},
   "outputs": [],
   "source": [
    "b = torch.Tensor(a)"
   ]
  },
  {
   "cell_type": "code",
   "execution_count": 36,
   "metadata": {},
   "outputs": [
    {
     "data": {
      "text/plain": [
       "tensor([[0.5214, 0.0681, 0.6126, 0.6599, 0.9991, 0.8408]])"
      ]
     },
     "execution_count": 36,
     "metadata": {},
     "output_type": "execute_result"
    }
   ],
   "source": [
    "b"
   ]
  },
  {
   "cell_type": "code",
   "execution_count": 37,
   "metadata": {},
   "outputs": [],
   "source": [
    "c = torch.from_numpy(a).float()"
   ]
  },
  {
   "cell_type": "code",
   "execution_count": 38,
   "metadata": {},
   "outputs": [
    {
     "data": {
      "text/plain": [
       "tensor([[True, True, True, True, True, True]])"
      ]
     },
     "execution_count": 38,
     "metadata": {},
     "output_type": "execute_result"
    }
   ],
   "source": [
    "c==b"
   ]
  },
  {
   "cell_type": "code",
   "execution_count": 39,
   "metadata": {},
   "outputs": [],
   "source": [
    "\n",
    "action_set = ['l','r','u','d']"
   ]
  },
  {
   "cell_type": "code",
   "execution_count": null,
   "metadata": {},
   "outputs": [],
   "source": []
  },
  {
   "cell_type": "code",
   "execution_count": null,
   "metadata": {},
   "outputs": [],
   "source": []
  },
  {
   "cell_type": "markdown",
   "metadata": {},
   "source": [
    "Configuration of NN\n",
    "\n",
    "input layer = 4* 4* 4 = 64\n",
    "\n",
    "hidden layer1 = 150\n",
    "\n",
    "hidden layer2 = 100\n",
    "\n",
    "output layer = 4 (No. of actions)"
   ]
  },
  {
   "cell_type": "code",
   "execution_count": 40,
   "metadata": {},
   "outputs": [],
   "source": [
    "l1 = 64\n",
    "l2 = 150\n",
    "l3 = 100\n",
    "l4 = 4"
   ]
  },
  {
   "cell_type": "markdown",
   "metadata": {},
   "source": [
    "### Review of model in torch\n"
   ]
  },
  {
   "cell_type": "code",
   "execution_count": 41,
   "metadata": {},
   "outputs": [],
   "source": [
    "model = torch.nn.Sequential(torch.nn.Linear(l1,l2),torch.nn.ReLU(),\n",
    "                           torch.nn.Linear(l2,l3), torch.nn.ReLU(),\n",
    "                           torch.nn.Linear(l3,l4))\n",
    "\n",
    "loss_fn = torch.nn.MSELoss()\n",
    "learning_rate = 1e-3\n",
    "optimizer = torch.optim.Adam(model.parameters(), lr=learning_rate)\n",
    "\n",
    "gamma = 0.9\n",
    "epsilon = 1.0"
   ]
  },
  {
   "cell_type": "markdown",
   "metadata": {},
   "source": [
    "Procedure:\n",
    "\n",
    "1. set up for loop for no. of epochs\n",
    "2. set up while loop till the game is progressing\n",
    "3. Run Q-network with input S_t\n",
    "4. Take action by epsilon greedy-policy\n",
    "5. Note the next state (S_t+1) and reward R_t+1\n",
    "6. Run the Q-network on S_t+1 and take the maximum Q-value (max Q(S_t+1))\n",
    "7. Target value is R_t+1 + max Q(S_t+1)\n",
    "8. Optimize the parameters for this target value, i.e, change the output vector corresponding action to the target value.\n",
    "9. On the last step target value is the reward itself."
   ]
  },
  {
   "cell_type": "code",
   "execution_count": 42,
   "metadata": {},
   "outputs": [],
   "source": [
    "epochs = 1000\n",
    "losses =[]\n",
    "\n",
    "for i in range(epochs):\n",
    "    game = Gridworld(size=4, mode='static')\n",
    "    state = game.board.render_np().reshape(1,64) + np.random.rand(1,64)/10\n",
    "    state_ = torch.Tensor(state)\n",
    "    status = 1\n",
    "    while(status == 1):\n",
    "        #getting Q value\n",
    "        qval = model(state_)\n",
    "        qval_ = qval.data.numpy()\n",
    "        \n",
    "        #choosing action epsilon greedy\n",
    "        if(random.random() < epsilon):\n",
    "            action_ = np.random.randint(0,4)\n",
    "        else:\n",
    "            action_ = np.argmax(qval_)\n",
    "        \n",
    "        action = action_set[action_]\n",
    "        \n",
    "        game.makeMove(action)\n",
    "        \n",
    "        #recording new state and reward\n",
    "        state2_ = game.board.render_np().reshape(1,64) + np.random.rand(1,64)/10\n",
    "        state2 = torch.Tensor(state2_)\n",
    "        reward = game.reward()\n",
    "        \n",
    "        #getting new Qval\n",
    "        with torch.no_grad():\n",
    "            qval2 = model(state2.reshape(1,64))\n",
    "        \n",
    "        #qval2_ = qval2.data.numpy()\n",
    "        #maxQ2 = np.max(qval2_)\n",
    "        \n",
    "        #calculation of target reward\n",
    "        maxQ2 = torch.max(qval2)\n",
    "        #target_qval = qval_.copy()\n",
    "        if reward ==-1:\n",
    "            y = reward + gamma*maxQ2\n",
    "        else:\n",
    "            y = reward \n",
    "            status = 0\n",
    "        \n",
    "        #calculating loss for this step\n",
    "        #target_qval[action_] = y\n",
    "        #target_qval = torch.Tensor(target_qval)\n",
    "        #qval_ = torch.Tensor(qval_)\n",
    "        y = torch.Tensor([y]).detach()\n",
    "        x = qval.squeeze()[action_]\n",
    "        loss = loss_fn(x,y)\n",
    "        optimizer.zero_grad()\n",
    "        loss.backward()\n",
    "        losses.append(loss.item())\n",
    "        optimizer.step()\n",
    "        state_ = state2\n",
    "    \n",
    "    if epsilon > 0.1:\n",
    "        epsilon -= (1/epochs)"
   ]
  },
  {
   "cell_type": "code",
   "execution_count": 43,
   "metadata": {},
   "outputs": [
    {
     "data": {
      "text/plain": [
       "[<matplotlib.lines.Line2D at 0x7fbb85b0d160>]"
      ]
     },
     "execution_count": 43,
     "metadata": {},
     "output_type": "execute_result"
    },
    {
     "data": {
      "image/png": "[encoded data removed]",
      "text/plain": [
       "<Figure size 432x288 with 1 Axes>"
      ]
     },
     "metadata": {
      "needs_background": "light"
     },
     "output_type": "display_data"
    }
   ],
   "source": [
    "plt.plot(range(len(losses)),losses)"
   ]
  },
  {
   "cell_type": "code",
   "execution_count": 55,
   "metadata": {},
   "outputs": [],
   "source": [
    "def test(model,mode='static',display=True):\n",
    "    game = Gridworld(mode = mode)\n",
    "    state_ = game.board.render_np().reshape(1,64)+np.random.rand(1,64)/10\n",
    "    state = torch.Tensor(state_)\n",
    "    status = 1\n",
    "    i=1\n",
    "    if display:\n",
    "        print('Initial State')\n",
    "        print(game.display())\n",
    "    while(status==1):\n",
    "        qval = model(state)\n",
    "        qval_ = qval.data.numpy()\n",
    "        \n",
    "        action_ = np.argmax(qval_)\n",
    "        action = action_set[action_]\n",
    "        game.makeMove(action)\n",
    "        state_ = game.board.render_np().reshape(1,64)+np.random.rand(1,64)/10\n",
    "        state = torch.Tensor(state_)\n",
    "        reward = game.reward()\n",
    "        if display:\n",
    "            print(\"Move \",i)\n",
    "            print('Action taken: '+action)\n",
    "            print(\"State Reached\")\n",
    "            print(game.display())\n",
    "            print(\"Reward : \",reward)\n",
    "        if reward != -1:\n",
    "            status=0\n",
    "            if reward > 0:\n",
    "                if display:\n",
    "                    print(\"You won\")\n",
    "                return True\n",
    "            else:\n",
    "                if display:\n",
    "                    print(\"You fell\")\n",
    "                return False\n",
    "        i+=1\n",
    "        \n",
    "        if(i>15):\n",
    "            if display:\n",
    "                print(\"Too many moves\")\n",
    "                break\n",
    "    \n",
    "    return False\n",
    "        \n",
    "        "
   ]
  },
  {
   "cell_type": "code",
   "execution_count": 53,
   "metadata": {},
   "outputs": [
    {
     "name": "stdout",
     "output_type": "stream",
     "text": [
      "Initial State\n",
      "[['+' '-' ' ' 'P']\n",
      " [' ' 'W' ' ' ' ']\n",
      " [' ' ' ' ' ' ' ']\n",
      " [' ' ' ' ' ' ' ']]\n",
      "[[8.208977 6.593728 5.94521  6.221051]]\n",
      "Move  1\n",
      "Action taken: l\n",
      "State Reached\n",
      "[['+' '-' 'P' ' ']\n",
      " [' ' 'W' ' ' ' ']\n",
      " [' ' ' ' ' ' ' ']\n",
      " [' ' ' ' ' ' ' ']]\n",
      "Reward :  -1\n",
      "[[9.662777  5.364772  6.9723167 7.1827655]]\n",
      "Move  2\n",
      "Action taken: l\n",
      "State Reached\n",
      "[['+' '-' ' ' ' ']\n",
      " [' ' 'W' ' ' ' ']\n",
      " [' ' ' ' ' ' ' ']\n",
      " [' ' ' ' ' ' ' ']]\n",
      "Reward :  -10\n",
      "You fell\n"
     ]
    },
    {
     "data": {
      "text/plain": [
       "False"
      ]
     },
     "execution_count": 53,
     "metadata": {},
     "output_type": "execute_result"
    }
   ],
   "source": [
    "test(model)"
   ]
  },
  {
   "cell_type": "markdown",
   "metadata": {},
   "source": [
    "## Experience Buffer\n",
    "It is used to avoid catastrophic memory\n",
    "\n",
    "In dynamic mode the position of obstacles can change, in that case, the agent will remember some of the steps that it had taken previously and use supervised learning to determine the next step. It will train on these experienced states and simulate its next moves in the memory"
   ]
  },
  {
   "cell_type": "markdown",
   "metadata": {},
   "source": [
    "Before taking an actual step, a loop is run to simulate certain number of steps based on the memory of the agent \n",
    "\n",
    "Hyper-parameters are the size of the experience replay buffer and the number of steps\n",
    "\n",
    "Experience - (s1,a,s2,r)"
   ]
  },
  {
   "cell_type": "code",
   "execution_count": 46,
   "metadata": {},
   "outputs": [],
   "source": [
    "from collections import deque\n",
    "mem_size = 1000\n",
    "batch_size = 200\n",
    "replay = deque(maxlen = mem_size)\n",
    "max_moves = 50"
   ]
  },
  {
   "cell_type": "code",
   "execution_count": 50,
   "metadata": {},
   "outputs": [],
   "source": [
    "epochs = 1000\n",
    "losses =[]\n",
    "\n",
    "for i in range(epochs):\n",
    "    game = Gridworld(size=4, mode='random')\n",
    "    state = game.board.render_np().reshape(1,64) + np.random.rand(1,64)/10\n",
    "    state_ = torch.Tensor(state)\n",
    "    status = 1\n",
    "    mov=0\n",
    "    while(status == 1):\n",
    "        mov += 1\n",
    "        \n",
    "        #getting Q value\n",
    "        qval = model(state_)\n",
    "        qval_ = qval.data.numpy()\n",
    "        \n",
    "        #choosing action epsilon greedy\n",
    "        if(random.random() < epsilon):\n",
    "            action_ = np.random.randint(0,4)\n",
    "        else:\n",
    "            action_ = np.argmax(qval_)\n",
    "        \n",
    "        action = action_set[action_]\n",
    "        \n",
    "        game.makeMove(action)\n",
    "        \n",
    "        #recording new state and reward\n",
    "        state2_ = game.board.render_np().reshape(1,64) + np.random.rand(1,64)/10\n",
    "        state2 = torch.Tensor(state2_)\n",
    "        reward = game.reward()\n",
    "        \n",
    "        #saving the experience\n",
    "        done = 1 if reward > 0 else 0\n",
    "        exp = (state_, action_, state2, reward, done)\n",
    "        replay.append(exp)\n",
    "        \n",
    "        if len(replay) > batch_size:\n",
    "            minibatch = random.sample(replay,batch_size)\n",
    "            state1_batch = torch.cat([s1 for (s1,a,s2,r,d) in minibatch])\n",
    "            action_batch = torch.Tensor([a for (s1,a,s2,r,d) in minibatch])\n",
    "            state2_batch = torch.cat([s2 for (s1,a,s2,r,d) in minibatch])\n",
    "            reward_batch = torch.Tensor([r for (s1,a,s2,r,d) in minibatch])\n",
    "            done_batch = torch.Tensor([d for(s1,a,s2,r,d) in minibatch])\n",
    "            \n",
    "            Q1 = model(state1_batch)\n",
    "            with torch.no_grad():\n",
    "                Q2 = model(state2_batch)\n",
    "            \n",
    "            Y = reward_batch + gamma*(1-done_batch)*torch.max(Q2,dim=1)[0]\n",
    "            X = Q1.gather(dim=1, index=action_batch.long().unsqueeze(dim=1)).squeeze()\n",
    "            \n",
    "            loss = loss_fn(X, Y.detach())\n",
    "            optimizer.zero_grad()\n",
    "            loss.backward()\n",
    "            losses.append(loss.item())\n",
    "            optimizer.step()\n",
    "            \n",
    "        if reward !=-1 or mov > max_moves:\n",
    "            mov = 0 \n",
    "            status = 0\n",
    "        \n",
    "        state_ = state2\n",
    "    \n"
   ]
  },
  {
   "cell_type": "code",
   "execution_count": 51,
   "metadata": {},
   "outputs": [
    {
     "data": {
      "text/plain": [
       "[<matplotlib.lines.Line2D at 0x7fbb84180e48>]"
      ]
     },
     "execution_count": 51,
     "metadata": {},
     "output_type": "execute_result"
    },
    {
     "data": {
      "image/png": "[encoded data removed]",
      "text/plain": [
       "<Figure size 432x288 with 1 Axes>"
      ]
     },
     "metadata": {
      "needs_background": "light"
     },
     "output_type": "display_data"
    }
   ],
   "source": [
    "plt.plot(range(len(losses)),losses)"
   ]
  },
  {
   "cell_type": "code",
   "execution_count": null,
   "metadata": {},
   "outputs": [],
   "source": [
    "max_games = 1000\n",
    "wins = 0\n",
    "for i in range(max_games):\n",
    "    win = test(model,mode='random',display=False)\n",
    "    if win:\n",
    "        wins+=1\n",
    "        \n",
    "win_perc = float(wins) / float(max_games)\n",
    "print(\"Games played: {0}, # of wins: {1}\".format(max_games,wins))\n",
    "print(\"Win percentage: {}\".format(win_perc))"
   ]
  },
  {
   "cell_type": "code",
   "execution_count": null,
   "metadata": {},
   "outputs": [],
   "source": []
  }
 ],
 "metadata": {
  "kernelspec": {
   "display_name": "Python 3",
   "language": "python",
   "name": "python3"
  },
  "language_info": {
   "codemirror_mode": {
    "name": "ipython",
    "version": 3
   },
   "file_extension": ".py",
   "mimetype": "text/x-python",
   "name": "python",
   "nbconvert_exporter": "python",
   "pygments_lexer": "ipython3",
   "version": "3.7.3"
  }
 },
 "nbformat": 4,
 "nbformat_minor": 2
}
